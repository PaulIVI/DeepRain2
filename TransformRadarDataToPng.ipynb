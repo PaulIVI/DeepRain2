{
 "cells": [
  {
   "cell_type": "code",
   "execution_count": 79,
   "metadata": {},
   "outputs": [],
   "source": [
    "import numpy as np\n",
    "import pickle\n",
    "import matplotlib.pyplot as plt\n",
    "import time"
   ]
  },
  {
   "cell_type": "code",
   "execution_count": 80,
   "metadata": {},
   "outputs": [],
   "source": [
    "def initTranformRadarToPng ():\n",
    "    RadarValues99 = np.asanyarray(pickle.load(open(\"RadarValues99PercentDatapoints.p\", \"rb\")))\n",
    "    maxValue = 40 # actual maxVal = maxVal + 99% Quanil (which is 1,39)\n",
    "    remaining_range = 255-len(RadarValues99)\n",
    "    scaleFactor = remaining_range/maxValue\n",
    "    maxOfRadarValues99 = max(RadarValues99[:,0])\n",
    "    RadarValues99 = np.sort(RadarValues99[:,0])\n",
    "    return RadarValues99, maxOfRadarValues99, scaleFactor\n",
    "    \n",
    "def transformRadarDataToPng (radarData, RadarValues99, maxOfRadarValues99, scaleFactor):\n",
    "    #scale values which are larger than maxOfRadarValues99\n",
    "    radarData = np.where(radarData>maxOfRadarValues99, \n",
    "                         ((radarData-maxOfRadarValues99)*scaleFactor+len(RadarValues99)).astype(int), \n",
    "                         radarData)\n",
    "    #set values that are larger than 255 to 255\n",
    "    radarData[radarData>255]=255\n",
    "\n",
    "    for idx in range(1,len(RadarValues99)):\n",
    "        radarData[(radarData<=RadarValues99[-idx]) & (radarData>RadarValues99[-idx-1])] = len(RadarValues99)-idx\n",
    "\n",
    "    radarData[(radarData>0) & (radarData<RadarValues99[0])]=1\n",
    "    return radarData\n",
    "\n",
    "\n",
    "    "
   ]
  },
  {
   "cell_type": "code",
   "execution_count": 81,
   "metadata": {},
   "outputs": [
    {
     "name": "stdout",
     "output_type": "stream",
     "text": [
      "start\n",
      "--- 0.2367093563079834 seconds ---\n",
      "done\n",
      "Original Rain Data \n",
      "Values <=0 are filtered out \n"
     ]
    },
    {
     "data": {
      "image/png": "[encoded data removed]",
      "text/plain": [
       "<Figure size 432x288 with 1 Axes>"
      ]
     },
     "metadata": {},
     "output_type": "display_data"
    }
   ],
   "source": [
    "data = np.random.uniform(low = 0, high = 45, size = (1000,1000))\n",
    "RadarValues99, maxOfRadarValues99, scaleFactor = initTranformRadarToPng()\n",
    "RadarValues99\n",
    "print(\"start\")\n",
    "start_time = time.time()\n",
    "pngData = transformRadarDataToPng(data, RadarValues99, maxOfRadarValues99, scaleFactor)\n",
    "print(\"--- %s seconds ---\" % (time.time() - start_time))\n",
    "print(\"done\")\n",
    "val, num = np.unique(pngData, return_counts = True)\n",
    "\n",
    "uniqueValues = np.asanyarray(pickle.load(open(\"YW2017.002_201606_countUniqueValues.p\", \"rb\")))\n",
    "uniqueValues_larger_0 = np.asanyarray([value for value in uniqueValues if value[0] > 0])\n",
    "\n",
    "print(\"Original Rain Data \\nValues <=0 are filtered out \")\n",
    "plt.plot(uniqueValues_larger_0[:,0], uniqueValues_larger_0[:,1], 'ro', label= \"uniqueValues_larger_0\")\n",
    "plt.ylabel('Number of Datapoints')\n",
    "plt.xlabel('Value of Datapoints')\n",
    "plt.legend(bbox_to_anchor=(1.05, 1), loc='upper left', borderaxespad=0.)\n",
    "plt.show()\n",
    "\n",
    "#plt.plot(final_scaled_png[:,0], final_scaled_png[:,1], 'ro', label= \"final_scaled_png\")\n",
    "#plt.ylabel('Number of Datapoints')\n",
    "#plt.xlabel('Value of Datapoints')\n",
    "#plt.legend(bbox_to_anchor=(1.05, 1), loc='upper left', borderaxespad=0.)\n",
    "#plt.show()\n",
    "\n"
   ]
  },
  {
   "cell_type": "code",
   "execution_count": null,
   "metadata": {},
   "outputs": [],
   "source": []
  },
  {
   "cell_type": "code",
   "execution_count": null,
   "metadata": {},
   "outputs": [],
   "source": []
  },
  {
   "cell_type": "code",
   "execution_count": null,
   "metadata": {},
   "outputs": [],
   "source": []
  },
  {
   "cell_type": "code",
   "execution_count": 82,
   "metadata": {},
   "outputs": [],
   "source": [
    "def transformPngToRadarValue (radarData, RadarValues99, maxOfRadarValues99, scaleFactor):\n",
    "    #scale values which are larger than maxOfRadarValues99\n",
    "    radarData = np.where(radarData>maxOfRadarValues99, \n",
    "                         ((radarData-maxOfRadarValues99)*scaleFactor+len(RadarValues99)).astype(int), \n",
    "                         radarData)\n",
    "    #set values that are larger than 255 to 255\n",
    "    radarData[radarData>255]=255\n",
    "\n",
    "    for idx in range(1,len(RadarValues99)):\n",
    "            print(idx, len(RadarValues99)-idx)\n",
    "            radarData[(radarData<=RadarValues99[-idx]) & (radarData>RadarValues99[-idx-1])] = len(RadarValues99)-idx\n",
    "    #radarData are now png data\n",
    "    print(RadarValues99[-1])\n",
    "    print(RadarValues99[-2])\n",
    "    radarData[(radarData>0) & (radarData<RadarValues99[0])]=1\n",
    "    return radarData\n",
    "        \n",
    "    "
   ]
  }
 ],
 "metadata": {
  "kernelspec": {
   "display_name": "Python 3",
   "language": "python",
   "name": "python3"
  },
  "language_info": {
   "codemirror_mode": {
    "name": "ipython",
    "version": 3
   },
   "file_extension": ".py",
   "mimetype": "text/x-python",
   "name": "python",
   "nbconvert_exporter": "python",
   "pygments_lexer": "ipython3",
   "version": "3.6.8"
  }
 },
 "nbformat": 4,
 "nbformat_minor": 2
}
