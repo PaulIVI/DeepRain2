{
 "cells": [
  {
   "cell_type": "markdown",
   "metadata": {},
   "source": [
    "# Generate a coorindate / pixel list\n",
    "This notebook will genereate three lists. This lists are used by server to calculate the pixel in the forecast image with longitude and latitude. \n",
    "### listLatitudeComplete\n",
    "All latitude values in one list \n",
    "### listLongitudeComplete\n",
    "All longitude values in one list \n",
    "### listCoordinates\n",
    "For each pair of latitude / longitude the pixel \n",
    "\n",
    "Example: The 5th element in the latitude and longitude together list will give you something like [latitude, longitude]. The 5th element in listCoordinates will give you the pixel in the forecast of a 900x900 matrix. It will look like [y, x]."
   ]
  },
  {
   "cell_type": "code",
   "execution_count": 1,
   "metadata": {},
   "outputs": [],
   "source": [
    "import wradlib as wrl\n",
    "import matplotlib.pyplot as pl\n",
    "import numpy as np\n",
    "import pandas as pd\n",
    "import pickle"
   ]
  },
  {
   "cell_type": "code",
   "execution_count": 13,
   "metadata": {},
   "outputs": [
    {
     "name": "stdout",
     "output_type": "stream",
     "text": [
      "[15.70415559 54.7327068 ]\n",
      "[ 3.58892995 46.95258041]\n",
      "[ 2.0735617 54.5790457]\n",
      "[14.6087025  47.07113758]\n"
     ]
    }
   ],
   "source": [
    "radolan_grid_ll = wrl.georef.get_radolan_grid(900,900, wgs84=True)\n",
    "# The edges of the grid \n",
    "#[y, x]\n",
    "#corner up, right\n",
    "print(radolan_grid_ll[899,899, :])\n",
    "#corner down, left\n",
    "print(radolan_grid_ll[0, 0, :])\n",
    "#corner up, left\n",
    "print(radolan_grid_ll[899, 0, :])\n",
    "#corner down, right\n",
    "print(radolan_grid_ll[0,899, :])"
   ]
  },
  {
   "cell_type": "code",
   "execution_count": 3,
   "metadata": {},
   "outputs": [],
   "source": [
    "radolan_grid_ll = wrl.georef.get_radolan_grid(900,900, wgs84=True) # [höhe (latitude), breite (longitude)]\n",
    "\n",
    "listCoordinates = []\n",
    "listLatitudeComplete = [] # all latitude values for each box in the grid\n",
    "listLongitudeComplete = [] # all longitude values for each box in the grid\n",
    "for hoehe in range(900):\n",
    "    for breite in range(900):\n",
    "        listLatitudeComplete.append(radolan_grid_ll[hoehe, breite, :][1])\n",
    "        listLongitudeComplete.append(radolan_grid_ll[hoehe, breite, :][0])\n",
    "        listCoordinates.append([hoehe, breite])\n",
    "        \n",
    "\n",
    "f = open('listLatitudeComplete.pckl', 'wb')\n",
    "pickle.dump(listLatitudeComplete, f)\n",
    "f.close()\n",
    "\n",
    "f = open('listLongitudeComplete.pckl', 'wb')\n",
    "pickle.dump(listLongitudeComplete, f)\n",
    "f.close()\n",
    "\n",
    "f = open('listCoordinates.pckl', 'wb')\n",
    "pickle.dump(listCoordinates, f)\n",
    "f.close()"
   ]
  },
  {
   "cell_type": "code",
   "execution_count": 15,
   "metadata": {},
   "outputs": [
    {
     "name": "stdout",
     "output_type": "stream",
     "text": [
      "[0, 2]\n"
     ]
    }
   ],
   "source": [
    "print(listCoordinates[2])"
   ]
  },
  {
   "cell_type": "code",
   "execution_count": 7,
   "metadata": {},
   "outputs": [],
   "source": [
    "import json\n",
    "with open('listLatitudeComplete.json', 'w') as f:\n",
    "    json.dump(listLatitudeComplete, f)\n",
    "\n",
    "with open('listLongitudeComplete.json', 'w') as f:\n",
    "    json.dump(listLongitudeComplete, f)\n",
    "\n",
    "with open('listCoordinates.json', 'w') as f:\n",
    "    json.dump(listCoordinates, f)"
   ]
  },
  {
   "cell_type": "code",
   "execution_count": 11,
   "metadata": {},
   "outputs": [
    {
     "name": "stdout",
     "output_type": "stream",
     "text": [
      "54.88782802327843\n",
      "15.687563195908872\n"
     ]
    }
   ],
   "source": [
    "print(max(listLatitudeComplete))\n",
    "print(max(listLongitudeComplete))"
   ]
  },
  {
   "cell_type": "code",
   "execution_count": 14,
   "metadata": {},
   "outputs": [
    {
     "name": "stdout",
     "output_type": "stream",
     "text": [
      "[47.66206974368475, 9.172706726253896]\n"
     ]
    }
   ],
   "source": [
    "height = 56\n",
    "width = 457\n",
    "coordinate = 0; \n",
    "for i in range(len(listCoordinates)):\n",
    "    if(listCoordinates[i][0] == height and listCoordinates[i][1] == width):\n",
    "        coordinate = [listLatitudeComplete[i], listLongitudeComplete[i]]\n",
    "        print(coordinate)"
   ]
  },
  {
   "cell_type": "code",
   "execution_count": null,
   "metadata": {},
   "outputs": [],
   "source": []
  }
 ],
 "metadata": {
  "kernelspec": {
   "display_name": "Python 3",
   "language": "python",
   "name": "python3"
  },
  "language_info": {
   "codemirror_mode": {
    "name": "ipython",
    "version": 3
   },
   "file_extension": ".py",
   "mimetype": "text/x-python",
   "name": "python",
   "nbconvert_exporter": "python",
   "pygments_lexer": "ipython3",
   "version": "3.7.3"
  },
  "varInspector": {
   "cols": {
    "lenName": 16,
    "lenType": 16,
    "lenVar": 40
   },
   "kernels_config": {
    "python": {
     "delete_cmd_postfix": "",
     "delete_cmd_prefix": "del ",
     "library": "var_list.py",
     "varRefreshCmd": "print(var_dic_list())"
    },
    "r": {
     "delete_cmd_postfix": ") ",
     "delete_cmd_prefix": "rm(",
     "library": "var_list.r",
     "varRefreshCmd": "cat(var_dic_list()) "
    }
   },
   "types_to_exclude": [
    "module",
    "function",
    "builtin_function_or_method",
    "instance",
    "_Feature"
   ],
   "window_display": false
  }
 },
 "nbformat": 4,
 "nbformat_minor": 2
}
