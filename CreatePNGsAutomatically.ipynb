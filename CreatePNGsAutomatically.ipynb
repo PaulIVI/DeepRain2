{
 "cells": [
  {
   "cell_type": "code",
   "execution_count": 89,
   "metadata": {},
   "outputs": [],
   "source": [
    "import getpass\n",
    "import paramiko\n",
    "import os\n",
    "import tarfile\n",
    "import wradlib as wrl\n",
    "import cv2\n",
    "import numpy as np\n",
    "import pickle\n",
    "import time\n",
    "from os.path import expanduser\n",
    "import tensorflow as tf"
   ]
  },
  {
   "cell_type": "code",
   "execution_count": 90,
   "metadata": {},
   "outputs": [],
   "source": [
    "#Decides if files should be downloaded\n",
    "extractFiles = False\n",
    "#Decides if files should be extracted\n",
    "downloadCompleteYear = False\n",
    "#Decides if files should be converted to PNGS\n",
    "generatePNGs = True\n",
    "#Decides if raw files should be deleted\n",
    "deleteFiles = False\n",
    "#Decides if the Trash should be deleted\n",
    "deleteTrash = False"
   ]
  },
  {
   "cell_type": "code",
   "execution_count": 91,
   "metadata": {},
   "outputs": [],
   "source": [
    "HOST = \"iosds01.ios.htwg-konstanz.de\"\n",
    "PORT = 22\n",
    "\n",
    "#Place of Data which should be downloaded (From Server)\n",
    "#The whole Directory (Year) will be downloaded\n",
    "DOWNLOAD_PATH = \"./datascience/regenradar/Radardaten/2015\"\n",
    "\n",
    "#Place where the raw data should be stored. This whole directory will be DELETED, if the PNGs are generated. \n",
    "STORE_PATH_RAW = os.path.abspath(\"./\") + \"/Data/RawData\"\n",
    "\n",
    "#Place where the generated PNGs should be stored. \n",
    "STORE_PATH_PNG = os.path.abspath(\"./\") + \"/Data\"\n",
    "\n",
    "#Place where all Radaradata from one month (zip) from server should be stored\n",
    "PATH_TO_RADAR_ZIP = STORE_PATH_RAW + \"/RadDataZIP\"\n",
    "\n",
    "#The path of the Trash. If deleteTrash == True, this directory (Trash) will be deleted after every generated month\n",
    "PATH_TO_TRASH = expanduser(\"~\") + \"/.local/share/Trash/files\""
   ]
  },
  {
   "cell_type": "markdown",
   "metadata": {},
   "source": [
    "Funktionen zum downloaden der Daten"
   ]
  },
  {
   "cell_type": "code",
   "execution_count": 92,
   "metadata": {
    "code_folding": [
     0
    ]
   },
   "outputs": [],
   "source": [
    "def printProgress(transferred, toBeTransferred):\n",
    "\n",
    "    width = 50\n",
    "    percent = transferred / toBeTransferred\n",
    "    size = int(percent * width)\n",
    "    fetched = transferred / (1024**2)\n",
    "    total = toBeTransferred / (1024**2)\n",
    "    progress = \"%(current)d/%(total)d Mb\"\n",
    "\n",
    "    args = {\n",
    "        \"current\": fetched,\n",
    "        \"total\": total\n",
    "    }\n",
    "    bar = progress + ' [' + '#' * size + '#' + '.'*(width - size) + ']'\n",
    "    print(\"\\r\"+bar % args, end='')\n",
    "\n",
    "def downloadDataSet(root_dir,host,port,DOWNLOAD_PATH, STORE_PATH_RAW):\n",
    "\n",
    "    path = root_dir\n",
    "    \n",
    "    transport = paramiko.Transport((host, port))\n",
    "        \n",
    "    print(\"Downloading from:\", str(host + \"/\"+DOWNLOAD_PATH))\n",
    "    username = input('Enter your username\\n')\n",
    "    pswd = getpass.getpass('Enter your password:\\n')\n",
    "    print(\"Connecting to \"+host+\"...\")\n",
    "\n",
    "    transport.connect(username=username, password=pswd)\n",
    "    sftp = paramiko.SFTPClient.from_transport(transport)\n",
    "\n",
    "    files_on_nas = sftp.listdir(DOWNLOAD_PATH)\n",
    "    print(files_on_nas)\n",
    "    \n",
    "    \n",
    "    for month in files_on_nas:    \n",
    "        if(downloadCompleteYear == True): \n",
    "            if os.path.exists(path) == False:\n",
    "                os.makedirs(path)\n",
    "            CURRENT_DOWNLOAD_PATH = DOWNLOAD_PATH + \"/\" + month\n",
    "\n",
    "            #Die Daten für den Monat downloaden\n",
    "            print(\"Downloading...\")\n",
    "            sftp.get(remotepath=CURRENT_DOWNLOAD_PATH, localpath=path +\n",
    "                         \"/\"+CURRENT_DOWNLOAD_PATH.split(\"/\")[-1], callback=printProgress)\n",
    "            print(\"\\n\")\n",
    "        \n",
    "        if(extractFiles == True):\n",
    "            #Extract the downloaded data\n",
    "            extractData(\"/\"+month)\n",
    "        if(generatePNGs == True):\n",
    "            #Create the PNGs\n",
    "            createPNGs(month)\n",
    "\n",
    "        if(deleteFiles == True):\n",
    "            ##################################################\n",
    "            #### HERE THE RAW DATA WILL BE DELETED\n",
    "            #### ATTENTION, IF THE WRONG PATH IS SET, IT COULD DELETE THE COMPLETE DISK!!!!\n",
    "            ##################################################\n",
    "            for root, dirs, files in os.walk(STORE_PATH_RAW, topdown=False):\n",
    "                for name in files:\n",
    "                    os.remove(os.path.join(root, name))\n",
    "                for name in dirs:\n",
    "                    if(name != \"MonthPNGData\"):\n",
    "                        os.rmdir(os.path.join(root, name))\n",
    "        if(deleteTrash == True):\n",
    "            #Remove Files and Directorys in Trash\n",
    "            for root, dirs, files in os.walk(PATH_TO_TRASH, topdown=False):\n",
    "                for name in files:\n",
    "                    os.remove(os.path.join(root, name))\n",
    "                for name in dirs:\n",
    "                    os.rmdir(os.path.join(root, name))"
   ]
  },
  {
   "cell_type": "markdown",
   "metadata": {},
   "source": [
    "Funktionen zum transformieren der Daten zu PNGs"
   ]
  },
  {
   "cell_type": "code",
   "execution_count": 96,
   "metadata": {
    "code_folding": [
     0,
     24,
     38,
     48
    ]
   },
   "outputs": [],
   "source": [
    "def initTranformRadarToPng ():\n",
    "    RadarValues99 = np.asanyarray(pickle.load(open(\"RadarValues99PercentDatapoints.p\", \"rb\")))\n",
    "    maxValue = 40 # actual maxVal = maxVal + 99% Quanil (which is 1,39)\n",
    "    remaining_range = 255-len(RadarValues99)\n",
    "    scaleFactor = remaining_range/maxValue\n",
    "    maxOfRadarValues99 = max(RadarValues99[:,0])\n",
    "    RadarValues99 = np.sort(RadarValues99[:,0])\n",
    "    return RadarValues99, maxOfRadarValues99, scaleFactor\n",
    "\n",
    "def transformRadarDataToPng (radarData, RadarValues99, maxOfRadarValues99, scaleFactor):\n",
    "    #scale values which are larger than maxOfRadarValues99\n",
    "    radarData = np.where(radarData>maxOfRadarValues99, \n",
    "                        ((radarData-maxOfRadarValues99)*scaleFactor+len(RadarValues99)).astype(int), \n",
    "                         radarData)\n",
    "    #set values that are larger than 255 to 255\n",
    "    radarData[radarData>255]=255\n",
    "\n",
    "    for idx in range(1,len(RadarValues99)):\n",
    "        radarData[(radarData<=RadarValues99[-idx]) & (radarData>RadarValues99[-idx-1])] = len(RadarValues99)-idx\n",
    "\n",
    "    radarData[(radarData>0) & (radarData<RadarValues99[0])]=1\n",
    "    return radarData\n",
    "\n",
    "# Array-Like, max of all data\n",
    "def normalize(data, absolute_max):\n",
    "    factor = float(254)/absolute_max\n",
    "    data_scaled = []\n",
    "    for row in data:\n",
    "        scaled_row = []\n",
    "        for pixel in row:\n",
    "            if pixel == 0:\n",
    "                scaled_row.append(pixel)\n",
    "            else:\n",
    "                scaled_row.append(pixel*factor+1)\n",
    "        data_scaled.append(scaled_row)\n",
    "\n",
    "    return np.asanyarray(data_scaled)\n",
    "\n",
    "def save_png_grayscale_8bit(image_data, filepath, filename, factor=1):\n",
    "    image_data_8bit = image_data.astype(np.uint8)\n",
    "    image_data_8bit *= int(factor)\n",
    "    \n",
    "    if not os.path.exists(filepath):\n",
    "        os.makedirs(filepath)\n",
    "    \n",
    "    full_filename = filepath + filename + \".png\"\n",
    "    cv2.imwrite(full_filename, image_data_8bit)\n",
    "    \n",
    "def get_timestamp_for_bin_filename(bin_file_name):\n",
    "    split = bin_file_name.split('-')\n",
    "    timestamp = split[2]\n",
    "    return timestamp\n",
    "\n",
    "def extractData(ZIP_TO_DOWNLOAD):\n",
    "    #Extract the downloaded data, if extractFiles is True\n",
    "    if extractFiles == True:\n",
    "        tar_month = tarfile.open(PATH_TO_RADAR_ZIP + ZIP_TO_DOWNLOAD, \"r:\")\n",
    "        tar_month.extractall(STORE_PATH_RAW + \"/RadDataZipMonth\")\n",
    "        list_days = os.listdir(STORE_PATH_RAW + \"/RadDataZipMonth\")\n",
    "        \n",
    "        counter = 0\n",
    "        for day in list_days:\n",
    "            tar_month = tarfile.open(STORE_PATH_RAW + \"/RadDataZipMonth/\" + day, \"r:gz\")\n",
    "            tar_month.extractall(STORE_PATH_RAW + \"/MonthsRadarData\")\n",
    "            \n",
    "            counter = counter + 1\n",
    "            print(\"Months extracted: {0} / {1}\".format(counter, len(list_days)), end=\"\\r\")\n",
    "            \n",
    "def createPNGs(FILE_NAME):\n",
    "    #names of all bin Data in 5 min. resolution are listed \n",
    "    listOfRadarBin5MinSteps = os.listdir(STORE_PATH_RAW + \"/MonthsRadarData\")\n",
    "    #counter to log the progress\n",
    "    counter = 0\n",
    "    \n",
    "    RadarValues99, maxOfRadarValues99, scaleFactor = initTranformRadarToPng()\n",
    "    for binData in listOfRadarBin5MinSteps: \n",
    "        startTimeOverall = time.time()\n",
    "        data, attrs = wrl.io.read_radolan_composite(STORE_PATH_RAW + \"/MonthsRadarData/\" + binData)\n",
    "#         data = normalize(data, 5)\n",
    "        startTimeForTranform = time.time()\n",
    "        data = transformRadarDataToPng(data,RadarValues99, maxOfRadarValues99, scaleFactor)\n",
    "#         transformRadarDataToPng(data,RadarValues99, maxOfRadarValues99, scaleFactor)\n",
    "#         print(data)\n",
    "#         data = tf.numpy(data)\n",
    "#         print(data)\n",
    "        endTimeForTransform = time.time() - startTimeForTranform\n",
    "        \n",
    "        #Store the Data in /home/till/Dokumente/Teamprojekt/TeamProjekt_Git/Data/MonthPNGData/<NameOfDownloadedZip>\n",
    "        save_png_grayscale_8bit(data, STORE_PATH_PNG + \"/MonthPNGData/\" + FILE_NAME[:-4] + \"/\", get_timestamp_for_bin_filename(binData), factor=1)\n",
    "        endTimeForStoreData = time.time() - startTimeForTranform - endTimeForTransform\n",
    "        \n",
    "        counter = counter + 1\n",
    "        print(\"Picture {0} / {1} Time for transform: {2} Time for store: {3}\".format(counter, len(listOfRadarBin5MinSteps), endTimeForTransform, endTimeForStoreData), end=\"\\r\")"
   ]
  },
  {
   "cell_type": "code",
   "execution_count": 97,
   "metadata": {
    "code_folding": [],
    "scrolled": true
   },
   "outputs": [
    {
     "name": "stdout",
     "output_type": "stream",
     "text": [
      "Downloading from: iosds01.ios.htwg-konstanz.de/./datascience/regenradar/Radardaten/2015\n",
      "Enter your username\n",
      "till_r\n",
      "Enter your password:\n",
      "········\n",
      "Connecting to iosds01.ios.htwg-konstanz.de...\n",
      "['YW2017.002_201502.tar', 'YW2017.002_201511.tar', 'YW2017.002_201507.tar', 'YW2017.002_201509.tar', 'YW2017.002_201505.tar', 'YW2017.002_201510.tar', 'YW2017.002_201503.tar', 'YW2017.002_201504.tar', 'YW2017.002_201501.tar', 'YW2017.002_201512.tar', 'YW2017.002_201508.tar', 'YW2017.002_201506.tar']\n",
      "Picture 41 / 8064 Time for transform: 0.2332592010498047 Time for store: 0.00392889976501464846\r"
     ]
    },
    {
     "ename": "KeyboardInterrupt",
     "evalue": "",
     "output_type": "error",
     "traceback": [
      "\u001b[0;31m---------------------------------------------------------------------------\u001b[0m",
      "\u001b[0;31mKeyboardInterrupt\u001b[0m                         Traceback (most recent call last)",
      "\u001b[0;32m<ipython-input-97-5298503b6fcf>\u001b[0m in \u001b[0;36m<module>\u001b[0;34m\u001b[0m\n\u001b[1;32m      1\u001b[0m \u001b[0;31m#Download data from Server if download is True\u001b[0m\u001b[0;34m\u001b[0m\u001b[0;34m\u001b[0m\u001b[0;34m\u001b[0m\u001b[0m\n\u001b[0;32m----> 2\u001b[0;31m \u001b[0mdownloadDataSet\u001b[0m\u001b[0;34m(\u001b[0m\u001b[0mPATH_TO_RADAR_ZIP\u001b[0m\u001b[0;34m,\u001b[0m\u001b[0mHOST\u001b[0m\u001b[0;34m,\u001b[0m\u001b[0mPORT\u001b[0m\u001b[0;34m,\u001b[0m\u001b[0mDOWNLOAD_PATH\u001b[0m\u001b[0;34m,\u001b[0m \u001b[0mSTORE_PATH_RAW\u001b[0m\u001b[0;34m)\u001b[0m\u001b[0;34m\u001b[0m\u001b[0;34m\u001b[0m\u001b[0m\n\u001b[0m",
      "\u001b[0;32m<ipython-input-92-54496e3cd58c>\u001b[0m in \u001b[0;36mdownloadDataSet\u001b[0;34m(root_dir, host, port, DOWNLOAD_PATH, STORE_PATH_RAW)\u001b[0m\n\u001b[1;32m     50\u001b[0m         \u001b[0;32mif\u001b[0m\u001b[0;34m(\u001b[0m\u001b[0mgeneratePNGs\u001b[0m \u001b[0;34m==\u001b[0m \u001b[0;32mTrue\u001b[0m\u001b[0;34m)\u001b[0m\u001b[0;34m:\u001b[0m\u001b[0;34m\u001b[0m\u001b[0;34m\u001b[0m\u001b[0m\n\u001b[1;32m     51\u001b[0m             \u001b[0;31m#Create the PNGs\u001b[0m\u001b[0;34m\u001b[0m\u001b[0;34m\u001b[0m\u001b[0;34m\u001b[0m\u001b[0m\n\u001b[0;32m---> 52\u001b[0;31m             \u001b[0mcreatePNGs\u001b[0m\u001b[0;34m(\u001b[0m\u001b[0mmonth\u001b[0m\u001b[0;34m)\u001b[0m\u001b[0;34m\u001b[0m\u001b[0;34m\u001b[0m\u001b[0m\n\u001b[0m\u001b[1;32m     53\u001b[0m \u001b[0;34m\u001b[0m\u001b[0m\n\u001b[1;32m     54\u001b[0m         \u001b[0;32mif\u001b[0m\u001b[0;34m(\u001b[0m\u001b[0mdeleteFiles\u001b[0m \u001b[0;34m==\u001b[0m \u001b[0;32mTrue\u001b[0m\u001b[0;34m)\u001b[0m\u001b[0;34m:\u001b[0m\u001b[0;34m\u001b[0m\u001b[0;34m\u001b[0m\u001b[0m\n",
      "\u001b[0;32m<ipython-input-96-4922f947d8fd>\u001b[0m in \u001b[0;36mcreatePNGs\u001b[0;34m(FILE_NAME)\u001b[0m\n\u001b[1;32m     87\u001b[0m \u001b[0;34m\u001b[0m\u001b[0m\n\u001b[1;32m     88\u001b[0m         \u001b[0;31m#Store the Data in /home/till/Dokumente/Teamprojekt/TeamProjekt_Git/Data/MonthPNGData/<NameOfDownloadedZip>\u001b[0m\u001b[0;34m\u001b[0m\u001b[0;34m\u001b[0m\u001b[0;34m\u001b[0m\u001b[0m\n\u001b[0;32m---> 89\u001b[0;31m         \u001b[0msave_png_grayscale_8bit\u001b[0m\u001b[0;34m(\u001b[0m\u001b[0mdata\u001b[0m\u001b[0;34m,\u001b[0m \u001b[0mSTORE_PATH_PNG\u001b[0m \u001b[0;34m+\u001b[0m \u001b[0;34m\"/MonthPNGData/\"\u001b[0m \u001b[0;34m+\u001b[0m \u001b[0mFILE_NAME\u001b[0m\u001b[0;34m[\u001b[0m\u001b[0;34m:\u001b[0m\u001b[0;34m-\u001b[0m\u001b[0;36m4\u001b[0m\u001b[0;34m]\u001b[0m \u001b[0;34m+\u001b[0m \u001b[0;34m\"/\"\u001b[0m\u001b[0;34m,\u001b[0m \u001b[0mget_timestamp_for_bin_filename\u001b[0m\u001b[0;34m(\u001b[0m\u001b[0mbinData\u001b[0m\u001b[0;34m)\u001b[0m\u001b[0;34m,\u001b[0m \u001b[0mfactor\u001b[0m\u001b[0;34m=\u001b[0m\u001b[0;36m1\u001b[0m\u001b[0;34m)\u001b[0m\u001b[0;34m\u001b[0m\u001b[0;34m\u001b[0m\u001b[0m\n\u001b[0m\u001b[1;32m     90\u001b[0m         \u001b[0mendTimeForStoreData\u001b[0m \u001b[0;34m=\u001b[0m \u001b[0mtime\u001b[0m\u001b[0;34m.\u001b[0m\u001b[0mtime\u001b[0m\u001b[0;34m(\u001b[0m\u001b[0;34m)\u001b[0m \u001b[0;34m-\u001b[0m \u001b[0mstartTimeForTranform\u001b[0m \u001b[0;34m-\u001b[0m \u001b[0mendTimeForTransform\u001b[0m\u001b[0;34m\u001b[0m\u001b[0;34m\u001b[0m\u001b[0m\n\u001b[1;32m     91\u001b[0m \u001b[0;34m\u001b[0m\u001b[0m\n",
      "\u001b[0;32m<ipython-input-96-4922f947d8fd>\u001b[0m in \u001b[0;36msave_png_grayscale_8bit\u001b[0;34m(image_data, filepath, filename, factor)\u001b[0m\n\u001b[1;32m     45\u001b[0m \u001b[0;34m\u001b[0m\u001b[0m\n\u001b[1;32m     46\u001b[0m     \u001b[0mfull_filename\u001b[0m \u001b[0;34m=\u001b[0m \u001b[0mfilepath\u001b[0m \u001b[0;34m+\u001b[0m \u001b[0mfilename\u001b[0m \u001b[0;34m+\u001b[0m \u001b[0;34m\".png\"\u001b[0m\u001b[0;34m\u001b[0m\u001b[0;34m\u001b[0m\u001b[0m\n\u001b[0;32m---> 47\u001b[0;31m     \u001b[0mcv2\u001b[0m\u001b[0;34m.\u001b[0m\u001b[0mimwrite\u001b[0m\u001b[0;34m(\u001b[0m\u001b[0mfull_filename\u001b[0m\u001b[0;34m,\u001b[0m \u001b[0mimage_data_8bit\u001b[0m\u001b[0;34m)\u001b[0m\u001b[0;34m\u001b[0m\u001b[0;34m\u001b[0m\u001b[0m\n\u001b[0m\u001b[1;32m     48\u001b[0m \u001b[0;34m\u001b[0m\u001b[0m\n\u001b[1;32m     49\u001b[0m \u001b[0;32mdef\u001b[0m \u001b[0mget_timestamp_for_bin_filename\u001b[0m\u001b[0;34m(\u001b[0m\u001b[0mbin_file_name\u001b[0m\u001b[0;34m)\u001b[0m\u001b[0;34m:\u001b[0m\u001b[0;34m\u001b[0m\u001b[0;34m\u001b[0m\u001b[0m\n",
      "\u001b[0;31mKeyboardInterrupt\u001b[0m: "
     ]
    }
   ],
   "source": [
    "#Download data from Server if download is True\n",
    "downloadDataSet(PATH_TO_RADAR_ZIP,HOST,PORT,DOWNLOAD_PATH, STORE_PATH_RAW)"
   ]
  },
  {
   "cell_type": "code",
   "execution_count": null,
   "metadata": {},
   "outputs": [],
   "source": []
  }
 ],
 "metadata": {
  "kernelspec": {
   "display_name": "Python 3",
   "language": "python",
   "name": "python3"
  },
  "language_info": {
   "codemirror_mode": {
    "name": "ipython",
    "version": 3
   },
   "file_extension": ".py",
   "mimetype": "text/x-python",
   "name": "python",
   "nbconvert_exporter": "python",
   "pygments_lexer": "ipython3",
   "version": "3.7.3"
  },
  "varInspector": {
   "cols": {
    "lenName": 16,
    "lenType": 16,
    "lenVar": 40
   },
   "kernels_config": {
    "python": {
     "delete_cmd_postfix": "",
     "delete_cmd_prefix": "del ",
     "library": "var_list.py",
     "varRefreshCmd": "print(var_dic_list())"
    },
    "r": {
     "delete_cmd_postfix": ") ",
     "delete_cmd_prefix": "rm(",
     "library": "var_list.r",
     "varRefreshCmd": "cat(var_dic_list()) "
    }
   },
   "oldHeight": 413.29878,
   "position": {
    "height": "40px",
    "left": "1472.7px",
    "right": "20px",
    "top": "54.9549px",
    "width": "484.601px"
   },
   "types_to_exclude": [
    "module",
    "function",
    "builtin_function_or_method",
    "instance",
    "_Feature"
   ],
   "varInspector_section_display": "none",
   "window_display": true
  }
 },
 "nbformat": 4,
 "nbformat_minor": 2
}
