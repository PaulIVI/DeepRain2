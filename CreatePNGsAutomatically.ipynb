{
 "cells": [
  {
   "cell_type": "code",
   "execution_count": 10,
   "metadata": {},
   "outputs": [],
   "source": [
    "import getpass\n",
    "import paramiko\n",
    "import os\n",
    "import tarfile\n",
    "import wradlib as wrl\n",
    "import cv2"
   ]
  },
  {
   "cell_type": "code",
   "execution_count": 11,
   "metadata": {},
   "outputs": [],
   "source": [
    "#Decides if files should be downloaded and extracted\n",
    "download = False\n",
    "extractFiles = False"
   ]
  },
  {
   "cell_type": "markdown",
   "metadata": {},
   "source": [
    "Funktionen zum downloaden der Daten"
   ]
  },
  {
   "cell_type": "code",
   "execution_count": 12,
   "metadata": {},
   "outputs": [],
   "source": [
    "def printProgress(transferred, toBeTransferred):\n",
    "\n",
    "    width = 50\n",
    "    percent = transferred / toBeTransferred\n",
    "    size = int(percent * width)\n",
    "    fetched = transferred / (1024**2)\n",
    "    total = toBeTransferred / (1024**2)\n",
    "    progress = \"%(current)d/%(total)d Mb\"\n",
    "\n",
    "    args = {\n",
    "        \"current\": fetched,\n",
    "        \"total\": total\n",
    "    }\n",
    "    bar = progress + ' [' + '#' * size + '#' + '.'*(width - size) + ']'\n",
    "    print(\"\\r\"+bar % args, end='')\n",
    "\n",
    "\n",
    "\n",
    "def downloadDataSet(root_dir,host,port,DOWNLOAD_PATH):\n",
    "\n",
    "    path = root_dir\n",
    "\n",
    "    transport = paramiko.Transport((host, port))\n",
    "\n",
    "    print(\"Downloading from:\", str(host + \"/\"+DOWNLOAD_PATH))\n",
    "    username = input('Enter your username\\n')\n",
    "    pswd = getpass.getpass('Enter your password:\\n')\n",
    "    print(\"Connecting to \"+host+\"...\")\n",
    "\n",
    "    transport.connect(username=username, password=pswd)\n",
    "    sftp = paramiko.SFTPClient.from_transport(transport)\n",
    "\n",
    "    if os.path.exists(path) == False:\n",
    "        os.makedirs(path)\n",
    "\n",
    "    print(\"Downloading...\")\n",
    "    sftp.get(remotepath=DOWNLOAD_PATH, localpath=path +\n",
    "                 \"/\"+DOWNLOAD_PATH.split(\"/\")[-1], callback=printProgress)\n",
    "    print(\"\\n\")"
   ]
  },
  {
   "cell_type": "markdown",
   "metadata": {},
   "source": [
    "Funktionen zum transformieren der Daten zu PNGs"
   ]
  },
  {
   "cell_type": "code",
   "execution_count": 46,
   "metadata": {},
   "outputs": [],
   "source": [
    "def initTranformRadarToPng ():\n",
    "    RadarValues99 = np.asanyarray(pickle.load(open(\"RadarValues99PercentDatapoints.p\", \"rb\")))\n",
    "    maxValue = 40 # actual maxVal = maxVal + 99% Quanil (which is 1,39)\n",
    "    remaining_range = 255-len(RadarValues99)\n",
    "    scaleFactor = remaining_range/maxValue\n",
    "    maxOfRadarValues99 = max(RadarValues99[:,0])\n",
    "    RadarValues99 = np.sort(RadarValues99[:,0])\n",
    "    return RadarValues99, maxOfRadarValues99, scaleFactor\n",
    "    \n",
    "def transformRadarDataToPng (radarData, RadarValues99, maxOfRadarValues99, scaleFactor):\n",
    "    #scale values which are larger than maxOfRadarValues99\n",
    "    radarData = np.where(radarData>maxOfRadarValues99, \n",
    "                         ((radarData-maxOfRadarValues99)*scaleFactor+len(RadarValues99)).astype(int), \n",
    "                         radarData)\n",
    "    #set values that are larger than 255 to 255\n",
    "    radarData[radarData>255]=255\n",
    "\n",
    "    for idx in range(1,len(RadarValues99)):\n",
    "        radarData[(radarData<=RadarValues99[-idx]) & (radarData>RadarValues99[-idx-1])] = len(RadarValues99)-idx\n",
    "\n",
    "    radarData[(radarData>0) & (radarData<RadarValues99[0])]=1\n",
    "    return radarData\n",
    "\n",
    "# Array-Like, max of all data\n",
    "def normalize(data, absolute_max):\n",
    "    factor = float(254)/absolute_max\n",
    "    data_scaled = []\n",
    "    for row in data:\n",
    "        scaled_row = []\n",
    "        for pixel in row:\n",
    "            if pixel == 0:\n",
    "                scaled_row.append(pixel)\n",
    "            else:\n",
    "                scaled_row.append(pixel*factor+1)\n",
    "        data_scaled.append(scaled_row)\n",
    "\n",
    "    return np.asanyarray(data_scaled)\n",
    "\n",
    "def save_png_grayscale_8bit(image_data, filepath, filename, factor=1):\n",
    "    image_data_8bit = image_data.astype(np.uint8)\n",
    "    image_data_8bit *= int(factor)\n",
    "    \n",
    "    if not os.path.exists(filepath):\n",
    "        os.makedirs(filepath)\n",
    "    \n",
    "    full_filename = filepath + filename + \".png\"\n",
    "    cv2.imwrite(full_filename, image_data_8bit)\n",
    "    \n",
    "def get_timestamp_for_bin_filename(bin_file_name):\n",
    "    split = bin_file_name.split('-')\n",
    "    timestamp = split[2]\n",
    "    return timestamp"
   ]
  },
  {
   "cell_type": "code",
   "execution_count": 47,
   "metadata": {},
   "outputs": [],
   "source": [
    "HOST = \"iosds01.ios.htwg-konstanz.de\"\n",
    "PORT = 22\n",
    "\n",
    "#Muss nachher dynamisch bestimmt werden\n",
    "#Datei die gedownloadet werden soll\n",
    "ZIP_TO_DOWNLOAD = \"/YW2017.002_200801.tar\"\n",
    "\n",
    "#Speicherort der Datei die gedownloadet werden soll\n",
    "DOWNLOAD_PATH = \"./datascience/regenradar/Radardaten/2008\" + ZIP_TO_DOWNLOAD\n",
    "\n",
    "#Ort an dem alle Daten gespeichert werden sollen ( in Unterordnern)\n",
    "STORE_PATH = \"/home/till/Dokumente/Teamprojekt/TeamProjekt_Git/Data\"\n",
    "\n",
    "#Ort an dem alle Radardaten von einem Monat gezippt vom Server gespeichert werden\n",
    "PATH_TO_RADAR_ZIP = STORE_PATH + \"/RadDataZIP\"\n",
    "\n",
    "#Download data from Server if download is True\n",
    "if(download == True):\n",
    "    downloadDataSet(\"./Data/RadDataZIP\",HOST,PORT,DOWNLOAD_PATH)"
   ]
  },
  {
   "cell_type": "code",
   "execution_count": 48,
   "metadata": {},
   "outputs": [],
   "source": [
    "#Extract the downloaded data, if extractFiles is True\n",
    "if extractFiles == True:\n",
    "    tar_year = tarfile.open(PATH_TO_RADAR_ZIP + ZIP_TO_DOWNLOAD, \"r:\")\n",
    "    tar_year.extractall(STORE_PATH + \"/RadDataZipMonth\")\n",
    "    list_month = os.listdir(STORE_PATH + \"/RadDataZipMonth\")\n",
    "    for month in list_month:\n",
    "        tar_month = tarfile.open(STORE_PATH + \"/RadDataZipMonth/\" + month, \"r:gz\")\n",
    "        tar_month.extractall(STORE_PATH + \"/MonthsRadarData\")\n"
   ]
  },
  {
   "cell_type": "code",
   "execution_count": 55,
   "metadata": {
    "scrolled": true
   },
   "outputs": [
    {
     "name": "stdout",
     "output_type": "stream",
     "text": [
      "/home/till/Dokumente/Teamprojekt/TeamProjekt_Git/Data/MonthPNGData/YW2017.002_200801/0801191440.png\n",
      "/home/till/Dokumente/Teamprojekt/TeamProjekt_Git/Data/MonthPNGData/YW2017.002_200801/0801181340.png\n",
      "/home/till/Dokumente/Teamprojekt/TeamProjekt_Git/Data/MonthPNGData/YW2017.002_200801/0801150825.png\n",
      "/home/till/Dokumente/Teamprojekt/TeamProjekt_Git/Data/MonthPNGData/YW2017.002_200801/0801020110.png\n",
      "Picture 4 / 8928\r"
     ]
    },
    {
     "ename": "KeyboardInterrupt",
     "evalue": "",
     "output_type": "error",
     "traceback": [
      "\u001b[0;31m---------------------------------------------------------------------------\u001b[0m",
      "\u001b[0;31mKeyboardInterrupt\u001b[0m                         Traceback (most recent call last)",
      "\u001b[0;32m<ipython-input-55-569e531d3e22>\u001b[0m in \u001b[0;36m<module>\u001b[0;34m\u001b[0m\n\u001b[1;32m      7\u001b[0m \u001b[0;32mfor\u001b[0m \u001b[0mbinData\u001b[0m \u001b[0;32min\u001b[0m \u001b[0mlistOfRadarBin5MinSteps\u001b[0m\u001b[0;34m:\u001b[0m\u001b[0;34m\u001b[0m\u001b[0;34m\u001b[0m\u001b[0m\n\u001b[1;32m      8\u001b[0m     \u001b[0mdata\u001b[0m\u001b[0;34m,\u001b[0m \u001b[0mattrs\u001b[0m \u001b[0;34m=\u001b[0m \u001b[0mwrl\u001b[0m\u001b[0;34m.\u001b[0m\u001b[0mio\u001b[0m\u001b[0;34m.\u001b[0m\u001b[0mread_radolan_composite\u001b[0m\u001b[0;34m(\u001b[0m\u001b[0mSTORE_PATH\u001b[0m \u001b[0;34m+\u001b[0m \u001b[0;34m\"/MonthsRadarData/\"\u001b[0m \u001b[0;34m+\u001b[0m \u001b[0mbinData\u001b[0m\u001b[0;34m)\u001b[0m\u001b[0;34m\u001b[0m\u001b[0;34m\u001b[0m\u001b[0m\n\u001b[0;32m----> 9\u001b[0;31m     \u001b[0mdata\u001b[0m \u001b[0;34m=\u001b[0m \u001b[0mnormalize\u001b[0m\u001b[0;34m(\u001b[0m\u001b[0mdata\u001b[0m\u001b[0;34m,\u001b[0m \u001b[0;36m5\u001b[0m\u001b[0;34m)\u001b[0m\u001b[0;34m\u001b[0m\u001b[0;34m\u001b[0m\u001b[0m\n\u001b[0m\u001b[1;32m     10\u001b[0m     \u001b[0msave_png_grayscale_8bit\u001b[0m\u001b[0;34m(\u001b[0m\u001b[0mdata\u001b[0m\u001b[0;34m,\u001b[0m \u001b[0mSTORE_PATH\u001b[0m \u001b[0;34m+\u001b[0m \u001b[0;34m\"/MonthPNGData\"\u001b[0m \u001b[0;34m+\u001b[0m \u001b[0mZIP_TO_DOWNLOAD\u001b[0m\u001b[0;34m[\u001b[0m\u001b[0;34m:\u001b[0m\u001b[0;34m-\u001b[0m\u001b[0;36m4\u001b[0m\u001b[0;34m]\u001b[0m \u001b[0;34m+\u001b[0m \u001b[0;34m\"/\"\u001b[0m\u001b[0;34m,\u001b[0m \u001b[0mget_timestamp_for_bin_filename\u001b[0m\u001b[0;34m(\u001b[0m\u001b[0mbinData\u001b[0m\u001b[0;34m)\u001b[0m\u001b[0;34m,\u001b[0m \u001b[0mfactor\u001b[0m\u001b[0;34m=\u001b[0m\u001b[0;36m1\u001b[0m\u001b[0;34m)\u001b[0m\u001b[0;34m\u001b[0m\u001b[0;34m\u001b[0m\u001b[0m\n\u001b[1;32m     11\u001b[0m \u001b[0;34m\u001b[0m\u001b[0m\n",
      "\u001b[0;32m<ipython-input-46-9831a4346ce9>\u001b[0m in \u001b[0;36mnormalize\u001b[0;34m(data, absolute_max)\u001b[0m\n\u001b[1;32m     32\u001b[0m                 \u001b[0mscaled_row\u001b[0m\u001b[0;34m.\u001b[0m\u001b[0mappend\u001b[0m\u001b[0;34m(\u001b[0m\u001b[0mpixel\u001b[0m\u001b[0;34m)\u001b[0m\u001b[0;34m\u001b[0m\u001b[0;34m\u001b[0m\u001b[0m\n\u001b[1;32m     33\u001b[0m             \u001b[0;32melse\u001b[0m\u001b[0;34m:\u001b[0m\u001b[0;34m\u001b[0m\u001b[0;34m\u001b[0m\u001b[0m\n\u001b[0;32m---> 34\u001b[0;31m                 \u001b[0mscaled_row\u001b[0m\u001b[0;34m.\u001b[0m\u001b[0mappend\u001b[0m\u001b[0;34m(\u001b[0m\u001b[0mpixel\u001b[0m\u001b[0;34m*\u001b[0m\u001b[0mfactor\u001b[0m\u001b[0;34m+\u001b[0m\u001b[0;36m1\u001b[0m\u001b[0;34m)\u001b[0m\u001b[0;34m\u001b[0m\u001b[0;34m\u001b[0m\u001b[0m\n\u001b[0m\u001b[1;32m     35\u001b[0m         \u001b[0mdata_scaled\u001b[0m\u001b[0;34m.\u001b[0m\u001b[0mappend\u001b[0m\u001b[0;34m(\u001b[0m\u001b[0mscaled_row\u001b[0m\u001b[0;34m)\u001b[0m\u001b[0;34m\u001b[0m\u001b[0;34m\u001b[0m\u001b[0m\n\u001b[1;32m     36\u001b[0m \u001b[0;34m\u001b[0m\u001b[0m\n",
      "\u001b[0;31mKeyboardInterrupt\u001b[0m: "
     ]
    }
   ],
   "source": [
    "#names of all bin Data in 5 min. resolution are listed \n",
    "listOfRadarBin5MinSteps = os.listdir(STORE_PATH + \"/MonthsRadarData\")\n",
    "\n",
    "#counter to log the progress\n",
    "counter = 0\n",
    "\n",
    "for binData in listOfRadarBin5MinSteps: \n",
    "    data, attrs = wrl.io.read_radolan_composite(STORE_PATH + \"/MonthsRadarData/\" + binData)\n",
    "    data = normalize(data, 5)\n",
    "    \n",
    "    #Store the Data in /home/till/Dokumente/Teamprojekt/TeamProjekt_Git/Data/MonthPNGData/<NameOfDownloadedZip>\n",
    "    save_png_grayscale_8bit(data, STORE_PATH + \"/MonthPNGData\" + ZIP_TO_DOWNLOAD[:-4] + \"/\", get_timestamp_for_bin_filename(binData), factor=1)\n",
    "    \n",
    "    counter = counter + 1\n",
    "    print(\"Picture {0} / {1}\".format(counter, len(listOfRadarBin5MinSteps)), end=\"\\r\")"
   ]
  },
  {
   "cell_type": "code",
   "execution_count": null,
   "metadata": {},
   "outputs": [],
   "source": [
    "#Hier wieder alle binären und Zipdaten löschen"
   ]
  },
  {
   "cell_type": "code",
   "execution_count": null,
   "metadata": {},
   "outputs": [],
   "source": []
  }
 ],
 "metadata": {
  "kernelspec": {
   "display_name": "Python 3",
   "language": "python",
   "name": "python3"
  },
  "language_info": {
   "codemirror_mode": {
    "name": "ipython",
    "version": 3
   },
   "file_extension": ".py",
   "mimetype": "text/x-python",
   "name": "python",
   "nbconvert_exporter": "python",
   "pygments_lexer": "ipython3",
   "version": "3.7.3"
  },
  "varInspector": {
   "cols": {
    "lenName": 16,
    "lenType": 16,
    "lenVar": 40
   },
   "kernels_config": {
    "python": {
     "delete_cmd_postfix": "",
     "delete_cmd_prefix": "del ",
     "library": "var_list.py",
     "varRefreshCmd": "print(var_dic_list())"
    },
    "r": {
     "delete_cmd_postfix": ") ",
     "delete_cmd_prefix": "rm(",
     "library": "var_list.r",
     "varRefreshCmd": "cat(var_dic_list()) "
    }
   },
   "oldHeight": 395.98978,
   "position": {
    "height": "40px",
    "left": "1149.77px",
    "right": "20px",
    "top": "-7.00694px",
    "width": "350px"
   },
   "types_to_exclude": [
    "module",
    "function",
    "builtin_function_or_method",
    "instance",
    "_Feature"
   ],
   "varInspector_section_display": "none",
   "window_display": true
  }
 },
 "nbformat": 4,
 "nbformat_minor": 2
}
