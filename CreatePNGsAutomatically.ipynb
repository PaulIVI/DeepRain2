{
 "cells": [
  {
   "cell_type": "code",
   "execution_count": 36,
   "metadata": {},
   "outputs": [],
   "source": [
    "import getpass\n",
    "import paramiko\n",
    "import os\n",
    "import tarfile\n",
    "import wradlib as wrl\n",
    "import cv2"
   ]
  },
  {
   "cell_type": "code",
   "execution_count": 48,
   "metadata": {},
   "outputs": [],
   "source": [
    "#Decides if files should be downloaded and extracted\n",
    "download = True\n",
    "extractFiles = True\n",
    "downloadCompleteYear = True"
   ]
  },
  {
   "cell_type": "markdown",
   "metadata": {},
   "source": [
    "Funktionen zum downloaden der Daten"
   ]
  },
  {
   "cell_type": "code",
   "execution_count": 50,
   "metadata": {},
   "outputs": [],
   "source": [
    "def printProgress(transferred, toBeTransferred):\n",
    "\n",
    "    width = 50\n",
    "    percent = transferred / toBeTransferred\n",
    "    size = int(percent * width)\n",
    "    fetched = transferred / (1024**2)\n",
    "    total = toBeTransferred / (1024**2)\n",
    "    progress = \"%(current)d/%(total)d Mb\"\n",
    "\n",
    "    args = {\n",
    "        \"current\": fetched,\n",
    "        \"total\": total\n",
    "    }\n",
    "    bar = progress + ' [' + '#' * size + '#' + '.'*(width - size) + ']'\n",
    "    print(\"\\r\"+bar % args, end='')\n",
    "\n",
    "\n",
    "\n",
    "def downloadDataSet(root_dir,host,port,DOWNLOAD_PATH):\n",
    "\n",
    "    path = root_dir\n",
    "\n",
    "    transport = paramiko.Transport((host, port))\n",
    "\n",
    "    print(\"Downloading from:\", str(host + \"/\"+DOWNLOAD_PATH))\n",
    "    username = input('Enter your username\\n')\n",
    "    pswd = getpass.getpass('Enter your password:\\n')\n",
    "    print(\"Connecting to \"+host+\"...\")\n",
    "\n",
    "    transport.connect(username=username, password=pswd)\n",
    "    sftp = paramiko.SFTPClient.from_transport(transport)\n",
    "    \n",
    "    files_on_nas = sftp.listdir(DOWNLOAD_PATH)\n",
    "    print(files_on_nas)\n",
    "    \n",
    "    #If PNGs for a complete year should be generated\n",
    "    if(downloadCompleteYear == True): \n",
    "        for month in files_on_nas:     \n",
    "            if os.path.exists(path) == False:\n",
    "                os.makedirs(path)\n",
    "            DOWNLOAD_PATH = DOWNLOAD_PATH + \"/\" + month\n",
    "            \n",
    "            #Die Daten für den Monat downloaden\n",
    "            print(\"Downloading...\")\n",
    "            sftp.get(remotepath=DOWNLOAD_PATH, localpath=path +\n",
    "                         \"/\"+DOWNLOAD_PATH.split(\"/\")[-1], callback=printProgress)\n",
    "            print(\"\\n\")\n",
    "            \n",
    "            #Extract the downloaded data\n",
    "            extractData(\"/\"+month)\n",
    "            #Create the PNGs\n",
    "            createPNGs()\n",
    "            \n",
    "            \n",
    "            ##################################################\n",
    "            #### HERE THE RAW DATA WILL BE DELETED\n",
    "            #### ATTENTION, IF THE WRONG PATH IS SET, IT COULD DELETE THE COMPLETE DISK!!!!\n",
    "            ##################################################\n",
    "            for root, dirs, files in os.walk(\"/home/till/Dokumente/Teamprojekt/TeamProjekt_Git/Data\", topdown=False):\n",
    "                for name in files:\n",
    "                    os.remove(os.path.join(root, name))\n",
    "                for name in dirs:\n",
    "                    if(name != \"MonthPNGData\"):\n",
    "                        os.rmdir(os.path.join(root, name))"
   ]
  },
  {
   "cell_type": "markdown",
   "metadata": {},
   "source": [
    "Funktionen zum transformieren der Daten zu PNGs"
   ]
  },
  {
   "cell_type": "code",
   "execution_count": 51,
   "metadata": {},
   "outputs": [],
   "source": [
    "def initTranformRadarToPng ():\n",
    "    RadarValues99 = np.asanyarray(pickle.load(open(\"RadarValues99PercentDatapoints.p\", \"rb\")))\n",
    "    maxValue = 40 # actual maxVal = maxVal + 99% Quanil (which is 1,39)\n",
    "    remaining_range = 255-len(RadarValues99)\n",
    "    scaleFactor = remaining_range/maxValue\n",
    "    maxOfRadarValues99 = max(RadarValues99[:,0])\n",
    "    RadarValues99 = np.sort(RadarValues99[:,0])\n",
    "    return RadarValues99, maxOfRadarValues99, scaleFactor\n",
    "    \n",
    "def transformRadarDataToPng (radarData, RadarValues99, maxOfRadarValues99, scaleFactor):\n",
    "    #scale values which are larger than maxOfRadarValues99\n",
    "    radarData = np.where(radarData>maxOfRadarValues99, \n",
    "                         ((radarData-maxOfRadarValues99)*scaleFactor+len(RadarValues99)).astype(int), \n",
    "                         radarData)\n",
    "    #set values that are larger than 255 to 255\n",
    "    radarData[radarData>255]=255\n",
    "\n",
    "    for idx in range(1,len(RadarValues99)):\n",
    "        radarData[(radarData<=RadarValues99[-idx]) & (radarData>RadarValues99[-idx-1])] = len(RadarValues99)-idx\n",
    "\n",
    "    radarData[(radarData>0) & (radarData<RadarValues99[0])]=1\n",
    "    return radarData\n",
    "\n",
    "# Array-Like, max of all data\n",
    "def normalize(data, absolute_max):\n",
    "    factor = float(254)/absolute_max\n",
    "    data_scaled = []\n",
    "    for row in data:\n",
    "        scaled_row = []\n",
    "        for pixel in row:\n",
    "            if pixel == 0:\n",
    "                scaled_row.append(pixel)\n",
    "            else:\n",
    "                scaled_row.append(pixel*factor+1)\n",
    "        data_scaled.append(scaled_row)\n",
    "\n",
    "    return np.asanyarray(data_scaled)\n",
    "\n",
    "def save_png_grayscale_8bit(image_data, filepath, filename, factor=1):\n",
    "    image_data_8bit = image_data.astype(np.uint8)\n",
    "    image_data_8bit *= int(factor)\n",
    "    \n",
    "    if not os.path.exists(filepath):\n",
    "        os.makedirs(filepath)\n",
    "    \n",
    "    full_filename = filepath + filename + \".png\"\n",
    "    cv2.imwrite(full_filename, image_data_8bit)\n",
    "    \n",
    "def get_timestamp_for_bin_filename(bin_file_name):\n",
    "    split = bin_file_name.split('-')\n",
    "    timestamp = split[2]\n",
    "    return timestamp\n",
    "\n",
    "def extractData(ZIP_TO_DOWNLOAD):\n",
    "    #Extract the downloaded data, if extractFiles is True\n",
    "    if extractFiles == True:\n",
    "        tar_year = tarfile.open(PATH_TO_RADAR_ZIP + ZIP_TO_DOWNLOAD, \"r:\")\n",
    "        tar_year.extractall(STORE_PATH + \"/RadDataZipMonth\")\n",
    "        list_month = os.listdir(STORE_PATH + \"/RadDataZipMonth\")\n",
    "        for month in list_month:\n",
    "            tar_month = tarfile.open(STORE_PATH + \"/RadDataZipMonth/\" + month, \"r:gz\")\n",
    "            tar_month.extractall(STORE_PATH + \"/MonthsRadarData\")\n",
    "            \n",
    "def createPNGs():\n",
    "    #names of all bin Data in 5 min. resolution are listed \n",
    "    listOfRadarBin5MinSteps = os.listdir(STORE_PATH + \"/MonthsRadarData\")\n",
    "    #counter to log the progress\n",
    "    counter = 0\n",
    "    for binData in listOfRadarBin5MinSteps: \n",
    "        data, attrs = wrl.io.read_radolan_composite(STORE_PATH + \"/MonthsRadarData/\" + binData)\n",
    "        data = normalize(data, 5)\n",
    "\n",
    "        #Store the Data in /home/till/Dokumente/Teamprojekt/TeamProjekt_Git/Data/MonthPNGData/<NameOfDownloadedZip>\n",
    "        save_png_grayscale_8bit(data, STORE_PATH + \"/MonthPNGData\" + ZIP_TO_DOWNLOAD[:-4] + \"/\", get_timestamp_for_bin_filename(binData), factor=1)\n",
    "\n",
    "        counter = counter + 1\n",
    "        print(\"Picture {0} / {1}\".format(counter, len(listOfRadarBin5MinSteps)), end=\"\\r\")"
   ]
  },
  {
   "cell_type": "code",
   "execution_count": 52,
   "metadata": {},
   "outputs": [],
   "source": [
    "HOST = \"iosds01.ios.htwg-konstanz.de\"\n",
    "PORT = 22\n",
    "\n",
    "#Muss nachher dynamisch bestimmt werden\n",
    "#Datei die gedownloadet werden soll\n",
    "ZIP_TO_DOWNLOAD = \"/YW2017.002_200801.tar\"\n",
    "\n",
    "#Speicherort der Datei die gedownloadet werden soll (Auf dem Server)\n",
    "DOWNLOAD_PATH = \"./datascience/regenradar/Radardaten/2008\" # + ZIP_TO_DOWNLOAD\n",
    "\n",
    "#Ort an dem alle Daten gespeichert werden sollen (in Unterordnern)\n",
    "STORE_PATH = \"/home/till/Dokumente/Teamprojekt/TeamProjekt_Git/Data\"\n",
    "\n",
    "#Ort an dem alle Radardaten von einem Monat gezippt vom Server gespeichert werden\n",
    "PATH_TO_RADAR_ZIP = STORE_PATH + \"/RadDataZIP\"\n"
   ]
  },
  {
   "cell_type": "code",
   "execution_count": 53,
   "metadata": {},
   "outputs": [
    {
     "name": "stdout",
     "output_type": "stream",
     "text": [
      "Downloading from: iosds01.ios.htwg-konstanz.de/./datascience/regenradar/Radardaten/2008\n",
      "Enter your username\n",
      "till_r\n",
      "Enter your password:\n",
      "········\n",
      "Connecting to iosds01.ios.htwg-konstanz.de...\n",
      "['YW2017.002_200812.tar', 'YW2017.002_200808.tar', 'YW2017.002_200805.tar', 'YW2017.002_200807.tar', 'YW2017.002_200809.tar', 'YW2017.002_200806.tar', 'YW2017.002_200801.tar', 'YW2017.002_200810.tar', 'YW2017.002_200803.tar', 'YW2017.002_200811.tar', 'YW2017.002_200802.tar', 'YW2017.002_200804.tar']\n",
      "Downloading...\n",
      "322/322 Mb [###################################################]\n",
      "\n",
      "Picture 20 / 8928\r"
     ]
    },
    {
     "ename": "KeyboardInterrupt",
     "evalue": "",
     "output_type": "error",
     "traceback": [
      "\u001b[0;31m---------------------------------------------------------------------------\u001b[0m",
      "\u001b[0;31mKeyboardInterrupt\u001b[0m                         Traceback (most recent call last)",
      "\u001b[0;32m<ipython-input-53-69c475495d7e>\u001b[0m in \u001b[0;36m<module>\u001b[0;34m\u001b[0m\n\u001b[1;32m      1\u001b[0m \u001b[0;31m#Download data from Server if download is True\u001b[0m\u001b[0;34m\u001b[0m\u001b[0;34m\u001b[0m\u001b[0;34m\u001b[0m\u001b[0m\n\u001b[1;32m      2\u001b[0m \u001b[0;32mif\u001b[0m\u001b[0;34m(\u001b[0m\u001b[0mdownload\u001b[0m \u001b[0;34m==\u001b[0m \u001b[0;32mTrue\u001b[0m\u001b[0;34m)\u001b[0m\u001b[0;34m:\u001b[0m\u001b[0;34m\u001b[0m\u001b[0;34m\u001b[0m\u001b[0m\n\u001b[0;32m----> 3\u001b[0;31m     \u001b[0mdownloadDataSet\u001b[0m\u001b[0;34m(\u001b[0m\u001b[0mPATH_TO_RADAR_ZIP\u001b[0m\u001b[0;34m,\u001b[0m\u001b[0mHOST\u001b[0m\u001b[0;34m,\u001b[0m\u001b[0mPORT\u001b[0m\u001b[0;34m,\u001b[0m\u001b[0mDOWNLOAD_PATH\u001b[0m\u001b[0;34m)\u001b[0m\u001b[0;34m\u001b[0m\u001b[0;34m\u001b[0m\u001b[0m\n\u001b[0m",
      "\u001b[0;32m<ipython-input-50-b1f4b86e58f8>\u001b[0m in \u001b[0;36mdownloadDataSet\u001b[0;34m(root_dir, host, port, DOWNLOAD_PATH)\u001b[0m\n\u001b[1;32m     50\u001b[0m             \u001b[0mextractData\u001b[0m\u001b[0;34m(\u001b[0m\u001b[0;34m\"/\"\u001b[0m\u001b[0;34m+\u001b[0m\u001b[0mmonth\u001b[0m\u001b[0;34m)\u001b[0m\u001b[0;34m\u001b[0m\u001b[0;34m\u001b[0m\u001b[0m\n\u001b[1;32m     51\u001b[0m             \u001b[0;31m#Create the PNGs\u001b[0m\u001b[0;34m\u001b[0m\u001b[0;34m\u001b[0m\u001b[0;34m\u001b[0m\u001b[0m\n\u001b[0;32m---> 52\u001b[0;31m             \u001b[0mcreatePNGs\u001b[0m\u001b[0;34m(\u001b[0m\u001b[0;34m)\u001b[0m\u001b[0;34m\u001b[0m\u001b[0;34m\u001b[0m\u001b[0m\n\u001b[0m\u001b[1;32m     53\u001b[0m \u001b[0;34m\u001b[0m\u001b[0m\n\u001b[1;32m     54\u001b[0m \u001b[0;34m\u001b[0m\u001b[0m\n",
      "\u001b[0;32m<ipython-input-51-5baf2cdd9e5c>\u001b[0m in \u001b[0;36mcreatePNGs\u001b[0;34m()\u001b[0m\n\u001b[1;32m     69\u001b[0m     \u001b[0;32mfor\u001b[0m \u001b[0mbinData\u001b[0m \u001b[0;32min\u001b[0m \u001b[0mlistOfRadarBin5MinSteps\u001b[0m\u001b[0;34m:\u001b[0m\u001b[0;34m\u001b[0m\u001b[0;34m\u001b[0m\u001b[0m\n\u001b[1;32m     70\u001b[0m         \u001b[0mdata\u001b[0m\u001b[0;34m,\u001b[0m \u001b[0mattrs\u001b[0m \u001b[0;34m=\u001b[0m \u001b[0mwrl\u001b[0m\u001b[0;34m.\u001b[0m\u001b[0mio\u001b[0m\u001b[0;34m.\u001b[0m\u001b[0mread_radolan_composite\u001b[0m\u001b[0;34m(\u001b[0m\u001b[0mSTORE_PATH\u001b[0m \u001b[0;34m+\u001b[0m \u001b[0;34m\"/MonthsRadarData/\"\u001b[0m \u001b[0;34m+\u001b[0m \u001b[0mbinData\u001b[0m\u001b[0;34m)\u001b[0m\u001b[0;34m\u001b[0m\u001b[0;34m\u001b[0m\u001b[0m\n\u001b[0;32m---> 71\u001b[0;31m         \u001b[0mdata\u001b[0m \u001b[0;34m=\u001b[0m \u001b[0mnormalize\u001b[0m\u001b[0;34m(\u001b[0m\u001b[0mdata\u001b[0m\u001b[0;34m,\u001b[0m \u001b[0;36m5\u001b[0m\u001b[0;34m)\u001b[0m\u001b[0;34m\u001b[0m\u001b[0;34m\u001b[0m\u001b[0m\n\u001b[0m\u001b[1;32m     72\u001b[0m \u001b[0;34m\u001b[0m\u001b[0m\n\u001b[1;32m     73\u001b[0m         \u001b[0;31m#Store the Data in /home/till/Dokumente/Teamprojekt/TeamProjekt_Git/Data/MonthPNGData/<NameOfDownloadedZip>\u001b[0m\u001b[0;34m\u001b[0m\u001b[0;34m\u001b[0m\u001b[0;34m\u001b[0m\u001b[0m\n",
      "\u001b[0;32m<ipython-input-51-5baf2cdd9e5c>\u001b[0m in \u001b[0;36mnormalize\u001b[0;34m(data, absolute_max)\u001b[0m\n\u001b[1;32m     35\u001b[0m         \u001b[0mdata_scaled\u001b[0m\u001b[0;34m.\u001b[0m\u001b[0mappend\u001b[0m\u001b[0;34m(\u001b[0m\u001b[0mscaled_row\u001b[0m\u001b[0;34m)\u001b[0m\u001b[0;34m\u001b[0m\u001b[0;34m\u001b[0m\u001b[0m\n\u001b[1;32m     36\u001b[0m \u001b[0;34m\u001b[0m\u001b[0m\n\u001b[0;32m---> 37\u001b[0;31m     \u001b[0;32mreturn\u001b[0m \u001b[0mnp\u001b[0m\u001b[0;34m.\u001b[0m\u001b[0masanyarray\u001b[0m\u001b[0;34m(\u001b[0m\u001b[0mdata_scaled\u001b[0m\u001b[0;34m)\u001b[0m\u001b[0;34m\u001b[0m\u001b[0;34m\u001b[0m\u001b[0m\n\u001b[0m\u001b[1;32m     38\u001b[0m \u001b[0;34m\u001b[0m\u001b[0m\n\u001b[1;32m     39\u001b[0m \u001b[0;32mdef\u001b[0m \u001b[0msave_png_grayscale_8bit\u001b[0m\u001b[0;34m(\u001b[0m\u001b[0mimage_data\u001b[0m\u001b[0;34m,\u001b[0m \u001b[0mfilepath\u001b[0m\u001b[0;34m,\u001b[0m \u001b[0mfilename\u001b[0m\u001b[0;34m,\u001b[0m \u001b[0mfactor\u001b[0m\u001b[0;34m=\u001b[0m\u001b[0;36m1\u001b[0m\u001b[0;34m)\u001b[0m\u001b[0;34m:\u001b[0m\u001b[0;34m\u001b[0m\u001b[0;34m\u001b[0m\u001b[0m\n",
      "\u001b[0;32m~/anaconda3/envs/DeepRain2/lib/python3.8/site-packages/numpy/core/_asarray.py\u001b[0m in \u001b[0;36masanyarray\u001b[0;34m(a, dtype, order)\u001b[0m\n\u001b[1;32m    136\u001b[0m \u001b[0;34m\u001b[0m\u001b[0m\n\u001b[1;32m    137\u001b[0m     \"\"\"\n\u001b[0;32m--> 138\u001b[0;31m     \u001b[0;32mreturn\u001b[0m \u001b[0marray\u001b[0m\u001b[0;34m(\u001b[0m\u001b[0ma\u001b[0m\u001b[0;34m,\u001b[0m \u001b[0mdtype\u001b[0m\u001b[0;34m,\u001b[0m \u001b[0mcopy\u001b[0m\u001b[0;34m=\u001b[0m\u001b[0;32mFalse\u001b[0m\u001b[0;34m,\u001b[0m \u001b[0morder\u001b[0m\u001b[0;34m=\u001b[0m\u001b[0morder\u001b[0m\u001b[0;34m,\u001b[0m \u001b[0msubok\u001b[0m\u001b[0;34m=\u001b[0m\u001b[0;32mTrue\u001b[0m\u001b[0;34m)\u001b[0m\u001b[0;34m\u001b[0m\u001b[0;34m\u001b[0m\u001b[0m\n\u001b[0m\u001b[1;32m    139\u001b[0m \u001b[0;34m\u001b[0m\u001b[0m\n\u001b[1;32m    140\u001b[0m \u001b[0;34m\u001b[0m\u001b[0m\n",
      "\u001b[0;31mKeyboardInterrupt\u001b[0m: "
     ]
    }
   ],
   "source": [
    "#Download data from Server if download is True\n",
    "if(download == True):\n",
    "    downloadDataSet(PATH_TO_RADAR_ZIP,HOST,PORT,DOWNLOAD_PATH)"
   ]
  },
  {
   "cell_type": "code",
   "execution_count": null,
   "metadata": {},
   "outputs": [],
   "source": []
  }
 ],
 "metadata": {
  "kernelspec": {
   "display_name": "Python 3",
   "language": "python",
   "name": "python3"
  },
  "language_info": {
   "codemirror_mode": {
    "name": "ipython",
    "version": 3
   },
   "file_extension": ".py",
   "mimetype": "text/x-python",
   "name": "python",
   "nbconvert_exporter": "python",
   "pygments_lexer": "ipython3",
   "version": "3.8.0"
  },
  "varInspector": {
   "cols": {
    "lenName": 16,
    "lenType": 16,
    "lenVar": 40
   },
   "kernels_config": {
    "python": {
     "delete_cmd_postfix": "",
     "delete_cmd_prefix": "del ",
     "library": "var_list.py",
     "varRefreshCmd": "print(var_dic_list())"
    },
    "r": {
     "delete_cmd_postfix": ") ",
     "delete_cmd_prefix": "rm(",
     "library": "var_list.r",
     "varRefreshCmd": "cat(var_dic_list()) "
    }
   },
   "oldHeight": 395.98978,
   "position": {
    "height": "40px",
    "left": "1149.77px",
    "right": "20px",
    "top": "-7.00694px",
    "width": "350px"
   },
   "types_to_exclude": [
    "module",
    "function",
    "builtin_function_or_method",
    "instance",
    "_Feature"
   ],
   "varInspector_section_display": "none",
   "window_display": true
  }
 },
 "nbformat": 4,
 "nbformat_minor": 2
}
