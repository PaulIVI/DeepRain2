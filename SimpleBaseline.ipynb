{
 "cells": [
  {
   "cell_type": "markdown",
   "metadata": {},
   "source": [
    "## Simeple Baseline - Weather doesn't change"
   ]
  },
  {
   "cell_type": "markdown",
   "metadata": {},
   "source": [
    "### Extract Test Pictures\n",
    "\n",
    "The Radar Images from 2016 and 2017 are used to test the Baselines. Therefore the picture get extracted if this wasn't done before.\n",
    "Before executing this script, the zipped .pngs have to be downloaded and stored in the following structure: \n",
    "\n",
    "```\n",
    ".\n",
    "├── Data\n",
    "│   └── TestPicturesZipped\n",
    "│       ├── 2016\n",
    "│       │   ├── radar_1601.zip\n",
    "│       │   ├── radar_1602.zip\n",
    "│       │   ├── radar_1603.zip\n",
    "│       │   ├── radar_1604.zip\n",
    "│       │   ├── radar_1605.zip\n",
    "│       │   ├── radar_1606.zip\n",
    "│       │   ├── radar_1607.zip\n",
    "│       │   ├── radar_1608.zip\n",
    "│       │   ├── radar_1609.zip\n",
    "│       │   ├── radar_1610.zip\n",
    "│       │   ├── radar_1611.zip\n",
    "│       │   └── radar_1612.zip\n",
    "│       └── 2017\n",
    "│           ├── radar_1701.zip\n",
    "│           ├── radar_1702.zip\n",
    "│           ├── radar_1703.zip\n",
    "│           ├── radar_1704.zip\n",
    "│           ├── radar_1705.zip\n",
    "│           ├── radar_1706.zip\n",
    "│           ├── radar_1707.zip\n",
    "│           ├── radar_1708.zip\n",
    "│           ├── radar_1709.zip\n",
    "│           ├── radar_1710.zip\n",
    "│           ├── radar_1711.zip\n",
    "│           └── radar_1712.zip\n",
    "├── README.md\n",
    "└── SimpleBaseline.ipynb\n",
    "```"
   ]
  },
  {
   "cell_type": "code",
   "execution_count": 2,
   "metadata": {},
   "outputs": [
    {
     "name": "stdout",
     "output_type": "stream",
     "text": [
      "Pictures get extracted\n"
     ]
    }
   ],
   "source": [
    "import zipfile\n",
    "import os\n",
    "abs_dir_path = os.path.join(os.path.join(os.path.abspath('.')))\n",
    "data_dir = os.listdir(abs_dir_path + \"/Data\")\n",
    "\n",
    "if \"TestPictures\" not in data_dir:\n",
    "    print(\"Pictures get extracted\")\n",
    "    list_years = os.listdir(abs_dir_path + \"/Data/TestPicturesZipped\")\n",
    "    list_years.sort()\n",
    "    for year in list_years:\n",
    "        list_of_months = os.listdir(abs_dir_path + \"/Data/TestPicturesZipped/\" + year)\n",
    "        list_of_months.sort()\n",
    "        for month in list_of_months:   \n",
    "            with zipfile.ZipFile(abs_dir_path + \"/Data/TestPicturesZipped/\" + year + \"/\" + month) as zip_ref:\n",
    "                zip_ref.extractall(abs_dir_path + \"/Data/TestPictures/\" + year + \"/\" + month.replace(\".zip\", \"\"))\n",
    "else: \n",
    "    print(\"Folder already exists\")"
   ]
  },
  {
   "cell_type": "code",
   "execution_count": 3,
   "metadata": {},
   "outputs": [
    {
     "name": "stdout",
     "output_type": "stream",
     "text": [
      "Path to test pictures get stored\n",
      "/home/paul/Documents/Master1/DeepRain_Teamproject/DeepRain2/Data/TestPictures/2016/radar_1601/scaled_1601010000.png\n",
      "210528\n"
     ]
    }
   ],
   "source": [
    "print(\"Path to test pictures get stored\")\n",
    "list_years = os.listdir(abs_dir_path + \"/Data/TestPictures\")\n",
    "list_years.sort()\n",
    "paths_to_test_pics = []\n",
    "for year in list_years:\n",
    "    list_of_months = os.listdir(abs_dir_path + \"/Data/TestPictures/\" + year)\n",
    "    list_of_months.sort()\n",
    "    for month in list_of_months:\n",
    "        path_to_pics_of_month = os.listdir(abs_dir_path + \"/Data/TestPictures/\" + year + \"/\" + month)\n",
    "        path_to_pics_of_month.sort()\n",
    "        for path in path_to_pics_of_month:\n",
    "            paths_to_test_pics.append(abs_dir_path + \"/Data/TestPictures/\" + year + \"/\" + month + \"/\" + path)\n",
    "print(paths_to_test_pics[0]) \n",
    "print(len(paths_to_test_pics))"
   ]
  },
  {
   "cell_type": "code",
   "execution_count": 4,
   "metadata": {},
   "outputs": [],
   "source": [
    "def get_pixel_of_constance(pic_path):\n",
    "    pic = io.imread(pic_path)[820:1020, 400:600]\n",
    "    pic_transformed = transform.resize(pic, output_shape = (64,64))\n",
    "    pixel_of_constance = pic_transformed[posx, posy]\n",
    "    return pixel_of_constance"
   ]
  },
  {
   "cell_type": "code",
   "execution_count": 5,
   "metadata": {
    "scrolled": true
   },
   "outputs": [
    {
     "name": "stdout",
     "output_type": "stream",
     "text": [
      "1000 done\n",
      "--- 22.42480754852295 seconds ---\n"
     ]
    }
   ],
   "source": [
    "from skimage import io, transform\n",
    "import numpy as np\n",
    "import pickle\n",
    "import time\n",
    "\n",
    "data_dir = os.listdir(abs_dir_path)\n",
    "\n",
    "if \"pixel_of_constance2016_17.p\" not in data_dir:\n",
    "    #Postition of Constance: X 31, Y 40\n",
    "    posx, posy = 31, 40,\n",
    "    counter = 1\n",
    "    pixel_of_constance = []\n",
    "    start_time = time.time()\n",
    "    for pic_path in paths_to_test_pics:\n",
    "        pixel_of_constance.append([pic_path, get_pixel_of_constance(pic_path)]) \n",
    "        if paths_to_test_pics.index(pic_path)%1000 == 0 and paths_to_test_pics.index(pic_path) != 0:\n",
    "            print(str(counter*1000) + \" done\")\n",
    "            print(\"--- %s seconds ---\" % (time.time() - start_time))\n",
    "            start_time = time.time()\n",
    "            counter +=1\n",
    "            break\n",
    "\n",
    "    pickle.dump(pixel_of_constance, open(\"pixel_of_constance2016_17.p\", \"wb\"))\n",
    "else: \n",
    "    print(\"File already exists\")"
   ]
  },
  {
   "cell_type": "code",
   "execution_count": 6,
   "metadata": {},
   "outputs": [
    {
     "name": "stdout",
     "output_type": "stream",
     "text": [
      "Length of List: 1001\n"
     ]
    },
    {
     "data": {
      "text/plain": [
       "['/home/paul/Documents/Master1/DeepRain_Teamproject/DeepRain2/Data/TestPictures/2016/radar_1601/scaled_1601010000.png',\n",
       " 0.0]"
      ]
     },
     "execution_count": 6,
     "metadata": {},
     "output_type": "execute_result"
    }
   ],
   "source": [
    "pixel_of_constance1617 = pickle.load(open(\"pixel_of_constance2016_17.p\", \"rb\"))\n",
    "print(\"Length of List: \" + str(len(pixel_of_constance1617)))\n",
    "pixel_of_constance1617[0]"
   ]
  },
  {
   "cell_type": "code",
   "execution_count": 151,
   "metadata": {},
   "outputs": [],
   "source": []
  },
  {
   "cell_type": "code",
   "execution_count": 152,
   "metadata": {},
   "outputs": [
    {
     "name": "stdout",
     "output_type": "stream",
     "text": [
      "--- 31.782063484191895 seconds ---\n",
      "1.0\n"
     ]
    }
   ],
   "source": [
    "import time\n",
    "start_time = time.time()\n",
    "\n",
    "forecast_in_5_min_steps = 5   #min. 5 min\n",
    "forecast_pic_distance = int(forecast_in_5_min_steps/5)\n",
    "\n",
    "forecasts = []\n",
    "#for index in range(len(paths_to_test_pics)-(forecast_pic_distance)):\n",
    "for index in range(2000-(forecast_pic_distance)):\n",
    "    first_pic_path = paths_to_test_pics[index]\n",
    "    second_pic_path = paths_to_test_pics[index+forecast_pic_distance]\n",
    "    \n",
    "    #get Constance Pixelvalue and make a Prediction\n",
    "    first_pixel_value = get_pixel_of_constance(first_pic_path)\n",
    "    if first_pixel_value == 0:\n",
    "        #print(\"It will not rain\")\n",
    "        prediction = 0\n",
    "    elif first_pixel_value < mean_rain_intensity/2:\n",
    "        #print(\"It will rain a little bit\")\n",
    "        prediction = 1\n",
    "    else:\n",
    "        #print(\"It will rain\")\n",
    "        prediction = 2\n",
    "    \n",
    "        \n",
    "    # Compare with actuale weather\n",
    "    second_pixel_value = get_pixel_of_constance(second_pic_path)\n",
    "    if second_pixel_value == 0:\n",
    "        #print(\"no rain\")\n",
    "        actual_weather = 0\n",
    "    elif second_pixel_value < mean_rain_intensity/2:\n",
    "        #print(\"little rain\")\n",
    "        actual_weather = 1\n",
    "    else:\n",
    "        #print(\"rain\")\n",
    "        actual_weather = 2\n",
    "    forecasts.append([prediction, actual_weather])\n",
    "\n",
    "print(\"--- %s seconds ---\" % (time.time() - start_time))\n",
    "\n",
    "forecast_hitrate = []\n",
    "z = 0\n",
    "a = 0\n",
    "for i in range(len(forecasts)):\n",
    "    if forecasts[i][0] == forecasts[i][1]:\n",
    "        z += 1\n",
    "    else: \n",
    "        a += 1\n",
    "ergebnis = z/(a+z)\n",
    "print(ergebnis)"
   ]
  },
  {
   "cell_type": "code",
   "execution_count": 119,
   "metadata": {},
   "outputs": [
    {
     "data": {
      "text/plain": [
       "array(['1', '2'], dtype='<U5')"
      ]
     },
     "execution_count": 119,
     "metadata": {},
     "output_type": "execute_result"
    }
   ],
   "source": [
    "a = [[\"test\",1],[\"hallo\", 2]]\n",
    "np.asanyarray(a)[:,1]"
   ]
  }
 ],
 "metadata": {
  "kernelspec": {
   "display_name": "Python 3",
   "language": "python",
   "name": "python3"
  },
  "language_info": {
   "codemirror_mode": {
    "name": "ipython",
    "version": 3
   },
   "file_extension": ".py",
   "mimetype": "text/x-python",
   "name": "python",
   "nbconvert_exporter": "python",
   "pygments_lexer": "ipython3",
   "version": "3.6.8"
  }
 },
 "nbformat": 4,
 "nbformat_minor": 2
}
